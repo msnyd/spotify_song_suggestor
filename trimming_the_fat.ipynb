{
 "nbformat": 4,
 "nbformat_minor": 2,
 "metadata": {
  "language_info": {
   "name": "python",
   "codemirror_mode": {
    "name": "ipython",
    "version": 3
   },
   "version": "3.7.4-final"
  },
  "orig_nbformat": 2,
  "file_extension": ".py",
  "mimetype": "text/x-python",
  "name": "python",
  "npconvert_exporter": "python",
  "pygments_lexer": "ipython3",
  "version": 3,
  "kernelspec": {
   "name": "python37464bitbaseconda09becdb38b044ff7a798497c9762d813",
   "display_name": "Python 3.7.4 64-bit ('base': conda)"
  }
 },
 "cells": [
  {
   "cell_type": "code",
   "execution_count": 2,
   "metadata": {},
   "outputs": [
    {
     "data": {
      "text/html": "<div>\n<style scoped>\n    .dataframe tbody tr th:only-of-type {\n        vertical-align: middle;\n    }\n\n    .dataframe tbody tr th {\n        vertical-align: top;\n    }\n\n    .dataframe thead th {\n        text-align: right;\n    }\n</style>\n<table border=\"1\" class=\"dataframe\">\n  <thead>\n    <tr style=\"text-align: right;\">\n      <th></th>\n      <th>genre</th>\n      <th>artist_name</th>\n      <th>track_name</th>\n      <th>track_id</th>\n      <th>popularity</th>\n      <th>acousticness</th>\n      <th>danceability</th>\n      <th>duration_ms</th>\n      <th>energy</th>\n      <th>instrumentalness</th>\n      <th>key</th>\n      <th>liveness</th>\n      <th>loudness</th>\n      <th>mode</th>\n      <th>speechiness</th>\n      <th>tempo</th>\n      <th>time_signature</th>\n      <th>valence</th>\n    </tr>\n  </thead>\n  <tbody>\n    <tr>\n      <th>0</th>\n      <td>Movie</td>\n      <td>Henri Salvador</td>\n      <td>C'est beau de faire un Show</td>\n      <td>0BRjO6ga9RKCKjfDqeFgWV</td>\n      <td>0</td>\n      <td>0.611</td>\n      <td>0.389</td>\n      <td>99373</td>\n      <td>0.910</td>\n      <td>0.000</td>\n      <td>C#</td>\n      <td>0.3460</td>\n      <td>-1.828</td>\n      <td>Major</td>\n      <td>0.0525</td>\n      <td>166.969</td>\n      <td>4/4</td>\n      <td>0.814</td>\n    </tr>\n    <tr>\n      <th>1</th>\n      <td>Movie</td>\n      <td>Martin &amp; les fées</td>\n      <td>Perdu d'avance (par Gad Elmaleh)</td>\n      <td>0BjC1NfoEOOusryehmNudP</td>\n      <td>1</td>\n      <td>0.246</td>\n      <td>0.590</td>\n      <td>137373</td>\n      <td>0.737</td>\n      <td>0.000</td>\n      <td>F#</td>\n      <td>0.1510</td>\n      <td>-5.559</td>\n      <td>Minor</td>\n      <td>0.0868</td>\n      <td>174.003</td>\n      <td>4/4</td>\n      <td>0.816</td>\n    </tr>\n    <tr>\n      <th>2</th>\n      <td>Movie</td>\n      <td>Joseph Williams</td>\n      <td>Don't Let Me Be Lonely Tonight</td>\n      <td>0CoSDzoNIKCRs124s9uTVy</td>\n      <td>3</td>\n      <td>0.952</td>\n      <td>0.663</td>\n      <td>170267</td>\n      <td>0.131</td>\n      <td>0.000</td>\n      <td>C</td>\n      <td>0.1030</td>\n      <td>-13.879</td>\n      <td>Minor</td>\n      <td>0.0362</td>\n      <td>99.488</td>\n      <td>5/4</td>\n      <td>0.368</td>\n    </tr>\n    <tr>\n      <th>3</th>\n      <td>Movie</td>\n      <td>Henri Salvador</td>\n      <td>Dis-moi Monsieur Gordon Cooper</td>\n      <td>0Gc6TVm52BwZD07Ki6tIvf</td>\n      <td>0</td>\n      <td>0.703</td>\n      <td>0.240</td>\n      <td>152427</td>\n      <td>0.326</td>\n      <td>0.000</td>\n      <td>C#</td>\n      <td>0.0985</td>\n      <td>-12.178</td>\n      <td>Major</td>\n      <td>0.0395</td>\n      <td>171.758</td>\n      <td>4/4</td>\n      <td>0.227</td>\n    </tr>\n    <tr>\n      <th>4</th>\n      <td>Movie</td>\n      <td>Fabien Nataf</td>\n      <td>Ouverture</td>\n      <td>0IuslXpMROHdEPvSl1fTQK</td>\n      <td>4</td>\n      <td>0.950</td>\n      <td>0.331</td>\n      <td>82625</td>\n      <td>0.225</td>\n      <td>0.123</td>\n      <td>F</td>\n      <td>0.2020</td>\n      <td>-21.150</td>\n      <td>Major</td>\n      <td>0.0456</td>\n      <td>140.576</td>\n      <td>4/4</td>\n      <td>0.390</td>\n    </tr>\n  </tbody>\n</table>\n</div>",
      "text/plain": "   genre        artist_name                        track_name  \\\n0  Movie     Henri Salvador       C'est beau de faire un Show   \n1  Movie  Martin & les fées  Perdu d'avance (par Gad Elmaleh)   \n2  Movie    Joseph Williams    Don't Let Me Be Lonely Tonight   \n3  Movie     Henri Salvador    Dis-moi Monsieur Gordon Cooper   \n4  Movie       Fabien Nataf                         Ouverture   \n\n                 track_id  popularity  acousticness  danceability  \\\n0  0BRjO6ga9RKCKjfDqeFgWV           0         0.611         0.389   \n1  0BjC1NfoEOOusryehmNudP           1         0.246         0.590   \n2  0CoSDzoNIKCRs124s9uTVy           3         0.952         0.663   \n3  0Gc6TVm52BwZD07Ki6tIvf           0         0.703         0.240   \n4  0IuslXpMROHdEPvSl1fTQK           4         0.950         0.331   \n\n   duration_ms  energy  instrumentalness key  liveness  loudness   mode  \\\n0        99373   0.910             0.000  C#    0.3460    -1.828  Major   \n1       137373   0.737             0.000  F#    0.1510    -5.559  Minor   \n2       170267   0.131             0.000   C    0.1030   -13.879  Minor   \n3       152427   0.326             0.000  C#    0.0985   -12.178  Major   \n4        82625   0.225             0.123   F    0.2020   -21.150  Major   \n\n   speechiness    tempo time_signature  valence  \n0       0.0525  166.969            4/4    0.814  \n1       0.0868  174.003            4/4    0.816  \n2       0.0362   99.488            5/4    0.368  \n3       0.0395  171.758            4/4    0.227  \n4       0.0456  140.576            4/4    0.390  "
     },
     "execution_count": 2,
     "metadata": {},
     "output_type": "execute_result"
    }
   ],
   "source": [
    "import pandas as pd\n",
    "\n",
    "df = pd.read_csv('https://raw.githubusercontent.com/aguilargallardo/DS-Unit-2-Applied-Modeling/master/data/SpotifyFeatures.csv')\n",
    "\n",
    "df.head()"
   ]
  },
  {
   "cell_type": "code",
   "execution_count": 3,
   "metadata": {},
   "outputs": [
    {
     "data": {
      "text/plain": "(232725, 18)"
     },
     "execution_count": 3,
     "metadata": {},
     "output_type": "execute_result"
    }
   ],
   "source": [
    "df.shape"
   ]
  },
  {
   "cell_type": "code",
   "execution_count": 6,
   "metadata": {},
   "outputs": [],
   "source": [
    "df = df[df.popularity > 2]"
   ]
  },
  {
   "cell_type": "code",
   "execution_count": 7,
   "metadata": {},
   "outputs": [
    {
     "data": {
      "text/plain": "(224221, 18)"
     },
     "execution_count": 7,
     "metadata": {},
     "output_type": "execute_result"
    }
   ],
   "source": [
    "df.shape"
   ]
  },
  {
   "cell_type": "code",
   "execution_count": 8,
   "metadata": {},
   "outputs": [
    {
     "data": {
      "text/html": "<div>\n<style scoped>\n    .dataframe tbody tr th:only-of-type {\n        vertical-align: middle;\n    }\n\n    .dataframe tbody tr th {\n        vertical-align: top;\n    }\n\n    .dataframe thead th {\n        text-align: right;\n    }\n</style>\n<table border=\"1\" class=\"dataframe\">\n  <thead>\n    <tr style=\"text-align: right;\">\n      <th></th>\n      <th>genre</th>\n      <th>artist_name</th>\n      <th>track_name</th>\n      <th>track_id</th>\n      <th>popularity</th>\n      <th>acousticness</th>\n      <th>danceability</th>\n      <th>duration_ms</th>\n      <th>energy</th>\n      <th>instrumentalness</th>\n      <th>key</th>\n      <th>liveness</th>\n      <th>loudness</th>\n      <th>mode</th>\n      <th>speechiness</th>\n      <th>tempo</th>\n      <th>time_signature</th>\n      <th>valence</th>\n    </tr>\n  </thead>\n  <tbody>\n    <tr>\n      <th>2</th>\n      <td>Movie</td>\n      <td>Joseph Williams</td>\n      <td>Don't Let Me Be Lonely Tonight</td>\n      <td>0CoSDzoNIKCRs124s9uTVy</td>\n      <td>3</td>\n      <td>0.952</td>\n      <td>0.663</td>\n      <td>170267</td>\n      <td>0.131</td>\n      <td>0.00000</td>\n      <td>C</td>\n      <td>0.103</td>\n      <td>-13.879</td>\n      <td>Minor</td>\n      <td>0.0362</td>\n      <td>99.488</td>\n      <td>5/4</td>\n      <td>0.368</td>\n    </tr>\n    <tr>\n      <th>4</th>\n      <td>Movie</td>\n      <td>Fabien Nataf</td>\n      <td>Ouverture</td>\n      <td>0IuslXpMROHdEPvSl1fTQK</td>\n      <td>4</td>\n      <td>0.950</td>\n      <td>0.331</td>\n      <td>82625</td>\n      <td>0.225</td>\n      <td>0.12300</td>\n      <td>F</td>\n      <td>0.202</td>\n      <td>-21.150</td>\n      <td>Major</td>\n      <td>0.0456</td>\n      <td>140.576</td>\n      <td>4/4</td>\n      <td>0.390</td>\n    </tr>\n    <tr>\n      <th>7</th>\n      <td>Movie</td>\n      <td>Laura Mayne</td>\n      <td>Let Me Let Go</td>\n      <td>0PbIF9YVD505GutwotpB5C</td>\n      <td>15</td>\n      <td>0.939</td>\n      <td>0.416</td>\n      <td>240067</td>\n      <td>0.269</td>\n      <td>0.00000</td>\n      <td>F#</td>\n      <td>0.113</td>\n      <td>-8.949</td>\n      <td>Major</td>\n      <td>0.0286</td>\n      <td>96.827</td>\n      <td>4/4</td>\n      <td>0.274</td>\n    </tr>\n    <tr>\n      <th>9</th>\n      <td>Movie</td>\n      <td>Le Club des Juniors</td>\n      <td>Les bisous des bisounours</td>\n      <td>0VSqZ3KStsjcfERGdcWpFO</td>\n      <td>10</td>\n      <td>0.319</td>\n      <td>0.598</td>\n      <td>152694</td>\n      <td>0.705</td>\n      <td>0.00125</td>\n      <td>G</td>\n      <td>0.349</td>\n      <td>-7.790</td>\n      <td>Major</td>\n      <td>0.0281</td>\n      <td>137.496</td>\n      <td>4/4</td>\n      <td>0.718</td>\n    </tr>\n    <tr>\n      <th>12</th>\n      <td>Movie</td>\n      <td>Idoles De La Musique</td>\n      <td>J'ai demandé à la lune</td>\n      <td>0jF6HUm18fg6QQCLHhfhC0</td>\n      <td>4</td>\n      <td>0.215</td>\n      <td>0.680</td>\n      <td>213589</td>\n      <td>0.600</td>\n      <td>0.07290</td>\n      <td>F#</td>\n      <td>0.111</td>\n      <td>-7.702</td>\n      <td>Minor</td>\n      <td>0.0258</td>\n      <td>110.026</td>\n      <td>4/4</td>\n      <td>0.433</td>\n    </tr>\n  </tbody>\n</table>\n</div>",
      "text/plain": "    genre           artist_name                      track_name  \\\n2   Movie       Joseph Williams  Don't Let Me Be Lonely Tonight   \n4   Movie          Fabien Nataf                       Ouverture   \n7   Movie           Laura Mayne                   Let Me Let Go   \n9   Movie   Le Club des Juniors       Les bisous des bisounours   \n12  Movie  Idoles De La Musique          J'ai demandé à la lune   \n\n                  track_id  popularity  acousticness  danceability  \\\n2   0CoSDzoNIKCRs124s9uTVy           3         0.952         0.663   \n4   0IuslXpMROHdEPvSl1fTQK           4         0.950         0.331   \n7   0PbIF9YVD505GutwotpB5C          15         0.939         0.416   \n9   0VSqZ3KStsjcfERGdcWpFO          10         0.319         0.598   \n12  0jF6HUm18fg6QQCLHhfhC0           4         0.215         0.680   \n\n    duration_ms  energy  instrumentalness key  liveness  loudness   mode  \\\n2        170267   0.131           0.00000   C     0.103   -13.879  Minor   \n4         82625   0.225           0.12300   F     0.202   -21.150  Major   \n7        240067   0.269           0.00000  F#     0.113    -8.949  Major   \n9        152694   0.705           0.00125   G     0.349    -7.790  Major   \n12       213589   0.600           0.07290  F#     0.111    -7.702  Minor   \n\n    speechiness    tempo time_signature  valence  \n2        0.0362   99.488            5/4    0.368  \n4        0.0456  140.576            4/4    0.390  \n7        0.0286   96.827            4/4    0.274  \n9        0.0281  137.496            4/4    0.718  \n12       0.0258  110.026            4/4    0.433  "
     },
     "execution_count": 8,
     "metadata": {},
     "output_type": "execute_result"
    }
   ],
   "source": [
    "df.head()"
   ]
  },
  {
   "cell_type": "code",
   "execution_count": 10,
   "metadata": {},
   "outputs": [
    {
     "data": {
      "text/plain": "(209011, 18)"
     },
     "execution_count": 10,
     "metadata": {},
     "output_type": "execute_result"
    }
   ],
   "source": [
    "df = df[df.popularity > 15]\n",
    "df.shape"
   ]
  },
  {
   "cell_type": "code",
   "execution_count": 11,
   "metadata": {},
   "outputs": [
    {
     "data": {
      "text/plain": "(79602, 18)"
     },
     "execution_count": 11,
     "metadata": {},
     "output_type": "execute_result"
    }
   ],
   "source": [
    "df = df[df.popularity > 50]\n",
    "df.shape"
   ]
  },
  {
   "cell_type": "code",
   "execution_count": 12,
   "metadata": {},
   "outputs": [
    {
     "data": {
      "text/html": "<div>\n<style scoped>\n    .dataframe tbody tr th:only-of-type {\n        vertical-align: middle;\n    }\n\n    .dataframe tbody tr th {\n        vertical-align: top;\n    }\n\n    .dataframe thead th {\n        text-align: right;\n    }\n</style>\n<table border=\"1\" class=\"dataframe\">\n  <thead>\n    <tr style=\"text-align: right;\">\n      <th></th>\n      <th>genre</th>\n      <th>artist_name</th>\n      <th>track_name</th>\n      <th>track_id</th>\n      <th>popularity</th>\n      <th>acousticness</th>\n      <th>danceability</th>\n      <th>duration_ms</th>\n      <th>energy</th>\n      <th>instrumentalness</th>\n      <th>key</th>\n      <th>liveness</th>\n      <th>loudness</th>\n      <th>mode</th>\n      <th>speechiness</th>\n      <th>tempo</th>\n      <th>time_signature</th>\n      <th>valence</th>\n    </tr>\n  </thead>\n  <tbody>\n    <tr>\n      <th>135</th>\n      <td>R&amp;B</td>\n      <td>Mary J. Blige</td>\n      <td>Be Without You - Kendu Mix</td>\n      <td>2YegxR5As7BeQuVp2U6pek</td>\n      <td>65</td>\n      <td>0.0830</td>\n      <td>0.724</td>\n      <td>246333</td>\n      <td>0.689</td>\n      <td>0.000000</td>\n      <td>D</td>\n      <td>0.3040</td>\n      <td>-5.922</td>\n      <td>Minor</td>\n      <td>0.1350</td>\n      <td>146.496</td>\n      <td>4/4</td>\n      <td>0.6930</td>\n    </tr>\n    <tr>\n      <th>136</th>\n      <td>R&amp;B</td>\n      <td>Rihanna</td>\n      <td>Desperado</td>\n      <td>6KFaHC9G178beAp7P0Vi5S</td>\n      <td>63</td>\n      <td>0.3230</td>\n      <td>0.685</td>\n      <td>186467</td>\n      <td>0.610</td>\n      <td>0.000000</td>\n      <td>C</td>\n      <td>0.1020</td>\n      <td>-5.221</td>\n      <td>Minor</td>\n      <td>0.0439</td>\n      <td>94.384</td>\n      <td>3/4</td>\n      <td>0.3230</td>\n    </tr>\n    <tr>\n      <th>137</th>\n      <td>R&amp;B</td>\n      <td>Yung Bleu</td>\n      <td>Ice On My Baby (feat. Kevin Gates) - Remix</td>\n      <td>6muW8cSjJ3rusKJ0vH5olw</td>\n      <td>62</td>\n      <td>0.0675</td>\n      <td>0.762</td>\n      <td>199520</td>\n      <td>0.520</td>\n      <td>0.000004</td>\n      <td>F</td>\n      <td>0.1140</td>\n      <td>-5.237</td>\n      <td>Minor</td>\n      <td>0.0959</td>\n      <td>75.047</td>\n      <td>4/4</td>\n      <td>0.0862</td>\n    </tr>\n    <tr>\n      <th>138</th>\n      <td>R&amp;B</td>\n      <td>Surfaces</td>\n      <td>Heaven Falls / Fall on Me</td>\n      <td>7yHqOZfsXYlicyoMt62yC6</td>\n      <td>61</td>\n      <td>0.3600</td>\n      <td>0.563</td>\n      <td>240597</td>\n      <td>0.366</td>\n      <td>0.002430</td>\n      <td>B</td>\n      <td>0.0955</td>\n      <td>-6.896</td>\n      <td>Minor</td>\n      <td>0.1210</td>\n      <td>85.352</td>\n      <td>4/4</td>\n      <td>0.7680</td>\n    </tr>\n    <tr>\n      <th>139</th>\n      <td>R&amp;B</td>\n      <td>Olivia O'Brien</td>\n      <td>Love Myself</td>\n      <td>4XzgjxGKqULifVf7mnDIQK</td>\n      <td>68</td>\n      <td>0.5960</td>\n      <td>0.653</td>\n      <td>213947</td>\n      <td>0.621</td>\n      <td>0.000000</td>\n      <td>B</td>\n      <td>0.0811</td>\n      <td>-5.721</td>\n      <td>Minor</td>\n      <td>0.0409</td>\n      <td>100.006</td>\n      <td>4/4</td>\n      <td>0.4660</td>\n    </tr>\n  </tbody>\n</table>\n</div>",
      "text/plain": "    genre     artist_name                                  track_name  \\\n135   R&B   Mary J. Blige                  Be Without You - Kendu Mix   \n136   R&B         Rihanna                                   Desperado   \n137   R&B       Yung Bleu  Ice On My Baby (feat. Kevin Gates) - Remix   \n138   R&B        Surfaces                   Heaven Falls / Fall on Me   \n139   R&B  Olivia O'Brien                                 Love Myself   \n\n                   track_id  popularity  acousticness  danceability  \\\n135  2YegxR5As7BeQuVp2U6pek          65        0.0830         0.724   \n136  6KFaHC9G178beAp7P0Vi5S          63        0.3230         0.685   \n137  6muW8cSjJ3rusKJ0vH5olw          62        0.0675         0.762   \n138  7yHqOZfsXYlicyoMt62yC6          61        0.3600         0.563   \n139  4XzgjxGKqULifVf7mnDIQK          68        0.5960         0.653   \n\n     duration_ms  energy  instrumentalness key  liveness  loudness   mode  \\\n135       246333   0.689          0.000000   D    0.3040    -5.922  Minor   \n136       186467   0.610          0.000000   C    0.1020    -5.221  Minor   \n137       199520   0.520          0.000004   F    0.1140    -5.237  Minor   \n138       240597   0.366          0.002430   B    0.0955    -6.896  Minor   \n139       213947   0.621          0.000000   B    0.0811    -5.721  Minor   \n\n     speechiness    tempo time_signature  valence  \n135       0.1350  146.496            4/4   0.6930  \n136       0.0439   94.384            3/4   0.3230  \n137       0.0959   75.047            4/4   0.0862  \n138       0.1210   85.352            4/4   0.7680  \n139       0.0409  100.006            4/4   0.4660  "
     },
     "execution_count": 12,
     "metadata": {},
     "output_type": "execute_result"
    }
   ],
   "source": [
    "df.head()"
   ]
  },
  {
   "cell_type": "code",
   "execution_count": null,
   "metadata": {},
   "outputs": [],
   "source": []
  }
 ]
}